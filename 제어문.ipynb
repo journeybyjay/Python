{
 "cells": [
  {
   "cell_type": "markdown",
   "metadata": {},
   "source": [
    "## if문"
   ]
  },
  {
   "cell_type": "code",
   "execution_count": null,
   "metadata": {},
   "outputs": [],
   "source": [
    "x=10\n",
    "if 0<x:\n",
    "    if x<10 :\n",
    "        print(\"x가 10 under 입니다.\")\n",
    "    elif x==10:\n",
    "        print(\"x가 딱! 10 이네요\")\n",
    "    else: \n",
    "        print(\"x가 10 under 가 아닙니다.\")\n",
    "    print(\"OK Good\")\n",
    "if 0>x:\n",
    "    if -10<x<0 :\n",
    "        print(\"x가 -10보단 크네요\")\n",
    "    if x==-10 :\n",
    "        print(\"x가 -딱! -10이네요\")\n",
    "    if x<-10 :\n",
    "        print(\"x가 -10보단 작네요\")\n",
    "    print(\"OK Minus\")"
   ]
  },
  {
   "cell_type": "code",
   "execution_count": null,
   "metadata": {},
   "outputs": [],
   "source": [
    "power = int(input('power:'))\n",
    "if power<= 100 :\n",
    "    print(\"너 약해!\")\n",
    "elif 100<=power<500 :\n",
    "    print(\"500미만 어중간!\")\n",
    "elif power>= 500 :\n",
    "    print(\"유 Win!\")\n",
    "else :\n",
    "    print(\"입력을 정확히 해주세요.\")"
   ]
  },
  {
   "cell_type": "code",
   "execution_count": null,
   "metadata": {},
   "outputs": [],
   "source": [
    "my_power = 100\n",
    "your_power = input() \n",
    "if (int(your_power) <= 100):\n",
    "    print(\"your_power :\", your_power, \"너는 약하다\")\n",
    "elif (int(your_power) >= 100):\n",
    "    print(\"your_power :\", your_power, \"쫌 거시기해\")\n",
    "elif (int(your_power) > 500):\n",
    "    print(\"your_power : \", your_power, \"유 win!\")\n",
    "else:\n",
    "    print(\"똑바로 입력해\")"
   ]
  },
  {
   "cell_type": "code",
   "execution_count": null,
   "metadata": {},
   "outputs": [],
   "source": [
    "math = int(input('Enter you score:'))\n",
    "english = int(input('Enter you score:'))\n",
    "art = int(input('Enter you score:'))\n",
    "\n",
    "if (math>65 and english>65 and art >65):\n",
    "    print (\"합격\")\n",
    "elif (math<0 and math>100 and english <0 and english >100 and art <0 and art >100):\n",
    "    print (\"똑바로 입력해라잉\")\n",
    "    \n"
   ]
  },
  {
   "cell_type": "code",
   "execution_count": 26,
   "metadata": {},
   "outputs": [
    {
     "name": "stdout",
     "output_type": "stream",
     "text": [
      "Enter your Math score:1\n",
      "Enter your English score:1\n",
      "Enter your Art score:1\n",
      "불합격일껄?\n"
     ]
    }
   ],
   "source": [
    "math = int(input('Enter your Math score:'))\n",
    "english = int(input('Enter your English score:'))\n",
    "art = int(input('Enter your Art score:'))\n",
    "merge = [math,english,art]\n",
    "avg = sum(merge) / len(merge)\n",
    "\n",
    "\n",
    "if (avg>65):\n",
    "    print (\"합격\")\n",
    "elif (avg<0 or avg>100):\n",
    "    print (\"똑바로 입력해라잉\")\n",
    "else :\n",
    "    print (\"불합격일껄?\")\n",
    "    \n"
   ]
  },
  {
   "cell_type": "code",
   "execution_count": 32,
   "metadata": {
    "scrolled": false
   },
   "outputs": [
    {
     "name": "stdout",
     "output_type": "stream",
     "text": [
      "10\n",
      "9\n",
      "8\n",
      "7\n",
      "6\n",
      "5\n",
      "4\n",
      "3\n",
      "2\n",
      "1\n",
      "[10, 9, 8, 7, 6, 5, 4, 3, 2, 1]\n"
     ]
    }
   ],
   "source": [
    "a=[]\n",
    "for i in range(10,0,-1):\n",
    "    print(i)\n",
    "    a.append(i)\n",
    "print (a)    "
   ]
  },
  {
   "cell_type": "code",
   "execution_count": 37,
   "metadata": {},
   "outputs": [
    {
     "name": "stdout",
     "output_type": "stream",
     "text": [
      "Orange"
     ]
    }
   ],
   "source": [
    "for i in \"Orange\":\n",
    "    print (i,end=\"\")"
   ]
  },
  {
   "cell_type": "code",
   "execution_count": 48,
   "metadata": {},
   "outputs": [
    {
     "name": "stdout",
     "output_type": "stream",
     "text": [
      "name{'name': 'tom', 'math': 80, 'english': 70}\n",
      "math{'name': 'tom', 'math': 80, 'english': 70}\n",
      "english{'name': 'tom', 'math': 80, 'english': 70}\n"
     ]
    }
   ],
   "source": [
    "a={\"name\":\"tom\",\"math\":80,\"english\":70}\n",
    "for i in a:\n",
    "    print (i,end=\"\")\n",
    "    print (a)"
   ]
  },
  {
   "cell_type": "code",
   "execution_count": 41,
   "metadata": {},
   "outputs": [
    {
     "name": "stdout",
     "output_type": "stream",
     "text": [
      "O\n",
      "r\n",
      "a\n",
      "n\n",
      "g\n",
      "e\n"
     ]
    }
   ],
   "source": [
    "for i in \"Orange\":\n",
    "    print (i)"
   ]
  },
  {
   "cell_type": "code",
   "execution_count": null,
   "metadata": {},
   "outputs": [],
   "source": []
  }
 ],
 "metadata": {
  "kernelspec": {
   "display_name": "Python 3",
   "language": "python",
   "name": "python3"
  },
  "language_info": {
   "codemirror_mode": {
    "name": "ipython",
    "version": 3
   },
   "file_extension": ".py",
   "mimetype": "text/x-python",
   "name": "python",
   "nbconvert_exporter": "python",
   "pygments_lexer": "ipython3",
   "version": "3.7.3"
  }
 },
 "nbformat": 4,
 "nbformat_minor": 2
}
