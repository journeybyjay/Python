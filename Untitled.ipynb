{
 "cells": [
  {
   "cell_type": "code",
   "execution_count": 55,
   "metadata": {},
   "outputs": [
    {
     "name": "stdout",
     "output_type": "stream",
     "text": [
      "s을 입력하면 반복이 중단됩니다. 숫자를 넣으면 합계를 구합니다.1\n",
      "s을 입력하면 반복이 중단됩니다. 숫자를 넣으면 합계를 구합니다.\n",
      "s을 입력하면 반복이 중단됩니다. 숫자를 넣으면 합계를 구합니다.2\n",
      "s을 입력하면 반복이 중단됩니다. 숫자를 넣으면 합계를 구합니다.s\n",
      "3\n"
     ]
    }
   ],
   "source": [
    "sum = 0\n",
    "i = \"\"\n",
    "while i.upper() != 'S' :\n",
    "   i = input(\"s을 입력하면 반복이 중단됩니다. 숫자를 넣으면 합계를 구합니다.\")\n",
    "   if i.isdigit() :\n",
    "       sum += int(i)\n",
    "print(sum)"
   ]
  },
  {
   "cell_type": "code",
   "execution_count": 86,
   "metadata": {},
   "outputs": [
    {
     "data": {
      "text/plain": [
       "31"
      ]
     },
     "execution_count": 86,
     "metadata": {},
     "output_type": "execute_result"
    }
   ],
   "source": [
    "random.randrange(1,45)"
   ]
  },
  {
   "cell_type": "code",
   "execution_count": 63,
   "metadata": {},
   "outputs": [
    {
     "name": "stdout",
     "output_type": "stream",
     "text": [
      "['d', 'b', 'a', 'e', 'c']\n"
     ]
    }
   ],
   "source": [
    "abc = ['a', 'b', 'c', 'd', 'e']\n",
    "random.shuffle(abc)\n",
    "print (abc)"
   ]
  },
  {
   "cell_type": "code",
   "execution_count": 84,
   "metadata": {},
   "outputs": [
    {
     "data": {
      "text/plain": [
       "'쫄면'"
      ]
     },
     "execution_count": 84,
     "metadata": {},
     "output_type": "execute_result"
    }
   ],
   "source": [
    "menu = '쫄면', '육계장', '비빔밥'\n",
    "random.choice(menu)"
   ]
  },
  {
   "cell_type": "code",
   "execution_count": 95,
   "metadata": {},
   "outputs": [
    {
     "name": "stdout",
     "output_type": "stream",
     "text": [
      "0.가위 1.바위 2.보 중 하나를 선택하세요>>\n",
      "100\n",
      "2\n",
      "잘못 누르셨습니다\n",
      "0.가위 1.바위 2.보 중 하나를 선택하세요>>\n",
      "\n"
     ]
    },
    {
     "ename": "ValueError",
     "evalue": "invalid literal for int() with base 10: ''",
     "output_type": "error",
     "traceback": [
      "\u001b[1;31m---------------------------------------------------------------------------\u001b[0m",
      "\u001b[1;31mValueError\u001b[0m                                Traceback (most recent call last)",
      "\u001b[1;32m<ipython-input-95-50cedc7bd3a8>\u001b[0m in \u001b[0;36m<module>\u001b[1;34m\u001b[0m\n\u001b[0;32m      1\u001b[0m \u001b[1;32mfor\u001b[0m \u001b[0mi\u001b[0m \u001b[1;32min\u001b[0m \u001b[0mrange\u001b[0m\u001b[1;33m(\u001b[0m\u001b[1;36m5\u001b[0m\u001b[1;33m)\u001b[0m\u001b[1;33m:\u001b[0m\u001b[1;33m\u001b[0m\u001b[1;33m\u001b[0m\u001b[0m\n\u001b[1;32m----> 2\u001b[1;33m      \u001b[0mnum\u001b[0m\u001b[1;33m=\u001b[0m\u001b[0mint\u001b[0m\u001b[1;33m(\u001b[0m\u001b[0minput\u001b[0m\u001b[1;33m(\u001b[0m\u001b[1;34m\"0.가위 1.바위 2.보 중 하나를 선택하세요>>\\n\"\u001b[0m\u001b[1;33m)\u001b[0m\u001b[1;33m)\u001b[0m\u001b[1;33m\u001b[0m\u001b[1;33m\u001b[0m\u001b[0m\n\u001b[0m\u001b[0;32m      3\u001b[0m      \u001b[0mcom\u001b[0m\u001b[1;33m=\u001b[0m\u001b[0mrandom\u001b[0m\u001b[1;33m.\u001b[0m\u001b[0mrandrange\u001b[0m\u001b[1;33m(\u001b[0m\u001b[1;36m1\u001b[0m\u001b[1;33m,\u001b[0m\u001b[1;36m3\u001b[0m\u001b[1;33m)\u001b[0m\u001b[1;33m\u001b[0m\u001b[1;33m\u001b[0m\u001b[0m\n\u001b[0;32m      4\u001b[0m      \u001b[0mprint\u001b[0m\u001b[1;33m(\u001b[0m\u001b[0mcom\u001b[0m\u001b[1;33m)\u001b[0m\u001b[1;33m\u001b[0m\u001b[1;33m\u001b[0m\u001b[0m\n\u001b[0;32m      5\u001b[0m \u001b[1;33m\u001b[0m\u001b[0m\n",
      "\u001b[1;31mValueError\u001b[0m: invalid literal for int() with base 10: ''"
     ]
    }
   ],
   "source": [
    "for i in range(5):\n",
    "     num=int(input(\"0.가위 1.바위 2.보 중 하나를 선택하세요>>\\n\"))\n",
    "     com=random.randrange(1,3)\n",
    "     print(com)\n",
    "\n",
    "     if num>2:\n",
    "          print(\"잘못 누르셨습니다\")\n",
    "     elif num==com:\n",
    "          print(\"비겼습니다\")\n",
    "     elif num+1==com or (num==2 and com==0):\n",
    "          print(\"컴퓨터 승리\")\n",
    "     else:\n",
    "          print(\"내가 승리\")\n",
    "\n",
    "     #내가 가위내면(num=0)-> com=1(진다),com=2(이긴다) \n",
    "     #내가 바위내면 (num=1)-> com=0(이긴다), com= 2(진다)\n",
    "     #내가 보 내면(num=2) -> com=1(이긴다),com=0(진다)\n",
    "\n",
    "com=random.randrange(1,3)\n",
    "print(com) "
   ]
  },
  {
   "cell_type": "code",
   "execution_count": 96,
   "metadata": {},
   "outputs": [
    {
     "ename": "SyntaxError",
     "evalue": "EOL while scanning string literal (<ipython-input-96-bd5f821a00b9>, line 3)",
     "output_type": "error",
     "traceback": [
      "\u001b[1;36m  File \u001b[1;32m\"<ipython-input-96-bd5f821a00b9>\"\u001b[1;36m, line \u001b[1;32m3\u001b[0m\n\u001b[1;33m    player = input('\u001b[0m\n\u001b[1;37m                    ^\u001b[0m\n\u001b[1;31mSyntaxError\u001b[0m\u001b[1;31m:\u001b[0m EOL while scanning string literal\n"
     ]
    }
   ],
   "source": [
    "\n",
    "while True:\n",
    "\n",
    "    player = input('''\n",
    "무엇을 낼 껀가요?!\n",
    "1. 가위\n",
    "2. 바위\n",
    "3. 보\n",
    "''')\n",
    "\n",
    "    computer = random.randint(1, 3)\n",
    "    computer = str(computer)\n",
    "\n",
    "    if player == \"1\":\n",
    "        player = \"가위\"\n",
    "    elif player == \"2\":\n",
    "        player = \"바위\"\n",
    "    elif player == \"3\":\n",
    "        player = \"보\"\n",
    "\n",
    "    if computer == \"1\":\n",
    "        computer = \"가위\"\n",
    "    elif computer == \"2\":\n",
    "        computer = \"바위\"\n",
    "    elif computer == \"3\":\n",
    "        computer = \"보\"\n",
    "\n",
    "    print(\"\\n플레이어는 {0}를 내셨습니다.\".format(player))\n",
    "    print(\"컴퓨터는 {0}를 냈습니다.\\n\".format(computer))\n",
    "\n",
    "    if computer == player:\n",
    "        print(\"둘 다 {0}로 비겼습니다.\".format(computer))\n",
    "    elif computer == \"가위\":\n",
    "        if player == \"바위\":\n",
    "            print(\"플레이어가 {0}로 승리하였습니다!\".format(player))\n",
    "            break\n",
    "        elif player == \"보\":\n",
    "            print(\"컴퓨터가 {0}로 승리하였습니다!\".format(computer))\n",
    "    elif computer == \"바위\":\n",
    "        if player == \"보\":\n",
    "            print(\"플레이어가 {0}로 승리하였습니다!\".format(player))\n",
    "            break\n",
    "        elif player == \"가위\":\n",
    "            print(\"컴퓨터가 {0}로 승리하였습니다!\".format(computer))\n",
    "    elif computer == \"보\":\n",
    "        if player == \"가위\":\n",
    "            print(\"플레이어가 {0}로 승리하였습니다!\".format(player))\n",
    "            break\n",
    "        elif player == \"바위\":\n",
    "            print(\"컴퓨터가 {0}로 승리하였습니다!\".format(computer))\n",
    "    else:\n",
    "        print(\"잘못된 입력입니다. 프로그램을 종료합니다.\")\n",
    "        break"
   ]
  },
  {
   "cell_type": "code",
   "execution_count": 1,
   "metadata": {},
   "outputs": [
    {
     "ename": "SyntaxError",
     "evalue": "invalid syntax (<ipython-input-1-4393f826420e>, line 5)",
     "output_type": "error",
     "traceback": [
      "\u001b[1;36m  File \u001b[1;32m\"<ipython-input-1-4393f826420e>\"\u001b[1;36m, line \u001b[1;32m5\u001b[0m\n\u001b[1;33m    while(user != 1 and user != 2 and != 3):\u001b[0m\n\u001b[1;37m                                       ^\u001b[0m\n\u001b[1;31mSyntaxError\u001b[0m\u001b[1;31m:\u001b[0m invalid syntax\n"
     ]
    }
   ],
   "source": [
    "com = 0\n",
    "user = 0\n",
    "while true:\n",
    "    user = input(\"가위(1), 바위(2), 보(3)을 입력해주세요\")\n",
    "    while(user != 1 and user != 2 and != 3):\n",
    "        user = input(\"1,2,3중에 하나를 선택하세요\")\n",
    "        com = random.randint(1,3)\n",
    "        if(com ==1):\n",
    "            com = \"1\"\n",
    "        elif(com ==2):\n",
    "            com = \"2\"\n",
    "        elif(com ==3):\n",
    "            com = \"3\"\n",
    "        else:\n",
    "            print(\"잘못 입력 했어요\")\n",
    "\n",
    "\n",
    "        if com == user\n",
    "            print (\"비김\")\n",
    "        elif user == 1\n",
    "            if com == 2 :\n",
    "                print(\"User는 가위, Com은 바위로 졌네요\")\n",
    "            elif com == 3 :\n",
    "                print(\"User는 가위, Com은 보로 이겼네요\")\n",
    "\n",
    "        elif user == 2\n",
    "            if com == 1 :\n",
    "                print(\"User는 바위, Com은 가위로 이겼네요\")\n",
    "            elif com == 3 :\n",
    "                print(\"User는 바위, Com은 보로 졌네요\")\n",
    "                \n",
    "        elif user == 3\n",
    "            if com == 1 :\n",
    "                print(\"User는 보, Com은 가위로 졌네요\")\n",
    "            elif com == 2 :\n",
    "                print(\"User는 보, Com은 바위로 이겼네요\")\n",
    "        else :\n",
    "            print (\"잘못된 입력입니다. 종료 합니다.\")\n",
    "            break"
   ]
  },
  {
   "cell_type": "code",
   "execution_count": 1,
   "metadata": {},
   "outputs": [
    {
     "name": "stdout",
     "output_type": "stream",
     "text": [
      "가위(1), 바위(2), 보(3)을 입력해 주세요!: 1\n",
      "유저:  1 컴터:  3\n",
      "가위(1), 바위(2), 보(3)을 입력해 주세요!: \n"
     ]
    },
    {
     "ename": "ValueError",
     "evalue": "invalid literal for int() with base 10: ''",
     "output_type": "error",
     "traceback": [
      "\u001b[1;31m---------------------------------------------------------------------------\u001b[0m",
      "\u001b[1;31mValueError\u001b[0m                                Traceback (most recent call last)",
      "\u001b[1;32m<ipython-input-1-cb2da3ea0653>\u001b[0m in \u001b[0;36m<module>\u001b[1;34m\u001b[0m\n\u001b[0;32m      4\u001b[0m \u001b[0mwinc\u001b[0m \u001b[1;33m=\u001b[0m \u001b[1;36m0\u001b[0m\u001b[1;33m\u001b[0m\u001b[1;33m\u001b[0m\u001b[0m\n\u001b[0;32m      5\u001b[0m \u001b[1;32mwhile\u001b[0m \u001b[1;32mTrue\u001b[0m\u001b[1;33m:\u001b[0m\u001b[1;33m\u001b[0m\u001b[1;33m\u001b[0m\u001b[0m\n\u001b[1;32m----> 6\u001b[1;33m     \u001b[0mi\u001b[0m \u001b[1;33m=\u001b[0m \u001b[0mint\u001b[0m\u001b[1;33m(\u001b[0m\u001b[0minput\u001b[0m\u001b[1;33m(\u001b[0m\u001b[1;34m\"가위(1), 바위(2), 보(3)을 입력해 주세요!: \"\u001b[0m\u001b[1;33m)\u001b[0m\u001b[1;33m)\u001b[0m\u001b[1;33m\u001b[0m\u001b[1;33m\u001b[0m\u001b[0m\n\u001b[0m\u001b[0;32m      7\u001b[0m     \u001b[1;32mif\u001b[0m \u001b[1;33m(\u001b[0m\u001b[0mi\u001b[0m \u001b[1;33m==\u001b[0m \u001b[1;36m4\u001b[0m\u001b[1;33m)\u001b[0m\u001b[1;33m:\u001b[0m \u001b[1;32mbreak\u001b[0m\u001b[1;33m\u001b[0m\u001b[1;33m\u001b[0m\u001b[0m\n\u001b[0;32m      8\u001b[0m     \u001b[0mcomputer\u001b[0m \u001b[1;33m=\u001b[0m \u001b[0mint\u001b[0m\u001b[1;33m(\u001b[0m\u001b[0mrandom\u001b[0m\u001b[1;33m.\u001b[0m\u001b[0mrandint\u001b[0m\u001b[1;33m(\u001b[0m\u001b[1;36m1\u001b[0m\u001b[1;33m,\u001b[0m\u001b[1;36m3\u001b[0m\u001b[1;33m)\u001b[0m\u001b[1;33m)\u001b[0m\u001b[1;33m\u001b[0m\u001b[1;33m\u001b[0m\u001b[0m\n",
      "\u001b[1;31mValueError\u001b[0m: invalid literal for int() with base 10: ''"
     ]
    }
   ],
   "source": [
    "import random\n",
    "sum = 0\n",
    "winu = 0\n",
    "winc = 0\n",
    "while True:\n",
    "    i = int(input(\"가위(1), 바위(2), 보(3)을 입력해 주세요!: \"))\n",
    "    if (i == 4): break\n",
    "    computer = int(random.randint(1,3))\n",
    "    sum += 1\n",
    "    if (i == computer): continue;\n",
    "    if (i == 1):\n",
    "        if (computer != 2): winu += 1\n",
    "        else: winc += 1\n",
    "    elif (i == 2):\n",
    "        if (computer != 3): winu += 1\n",
    "        else: winc += 1\n",
    "    elif (i == 3): \n",
    "        if (computer != 1): winu += 1 \n",
    "        else: winc += 1\n",
    "    print(\"유저: \", i, \"컴터: \", computer)\n",
    "print(\"게임종료: (전체: \", sum, \"유저: \", winu,\"승!\", \"컴터: \", winc,\"승!\", \")\")"
   ]
  },
  {
   "cell_type": "markdown",
   "metadata": {},
   "source": [
    "d = {\"1\":\"가위\",\"2\":\"바위\", \"3\":\"보\"}\n",
    "while True:\n",
    "   a = input(\"1.가위, 2.바위, 3.보\")\n",
    "   b = str(random.randint(1,3))\n",
    "\n",
    "   if a == \"1\":\n",
    "       if b == \"1\":\n",
    "           print(\"User=\", d.get(a), \", Computer=\", d.get(b), \"비겼습니다.\")\n",
    "       if b == \"2\":\n",
    "           print(\"User=\", d.get(a), \", Computer=\", d.get(b), \"졌습니다.\")\n",
    "       if b == \"3\":\n",
    "           print(\"User=\", d.get(a), \", Computer=\", d.get(b), \"이겼습니다.\")\n",
    "   elif a == \"2\":\n",
    "       if b == \"1\":\n",
    "           print(\"User=\", d.get(a), \", Computer=\", d.get(b), \"이겼습니다.\")\n",
    "       if b == \"2\":\n",
    "           print(\"User=\", d.get(a), \", Computer=\", d.get(b), \"비겼습니다..\")\n",
    "       if b == \"3\":\n",
    "           print(\"User=\", d.get(a), \", Computer=\", d.get(b), \"졌습니다.\")\n",
    "   elif a == \"3\":\n",
    "       if b == \"1\":\n",
    "           print(\"User=\", d.get(a), \", Computer=\", d.get(b), \"졌습니다..\")\n",
    "       if b == \"2\":\n",
    "           print(\"User=\", d.get(a), \", Computer=\", d.get(b), \"이겼습니다.\")\n",
    "       if b == \"3\":\n",
    "           print(\"User=\", d.get(a), \", Computer=\", d.get(b), \"비습니다.\")\n",
    "   else :\n",
    "       print(\"오류입니다.\")\n",
    "       break"
   ]
  },
  {
   "cell_type": "code",
   "execution_count": 2,
   "metadata": {},
   "outputs": [
    {
     "ename": "IndentationError",
     "evalue": "unindent does not match any outer indentation level (<tokenize>, line 30)",
     "output_type": "error",
     "traceback": [
      "\u001b[1;36m  File \u001b[1;32m\"<tokenize>\"\u001b[1;36m, line \u001b[1;32m30\u001b[0m\n\u001b[1;33m    break\u001b[0m\n\u001b[1;37m    ^\u001b[0m\n\u001b[1;31mIndentationError\u001b[0m\u001b[1;31m:\u001b[0m unindent does not match any outer indentation level\n"
     ]
    }
   ],
   "source": [
    "d = {\"1\":\"가위\",\"2\":\"바위\", \"3\":\"보\"}\n",
    "while True:\n",
    "   a = input(\"1.가위, 2.바위, 3.보\")\n",
    "   b = str(random.randint(1,3))\n",
    "\n",
    "   if a == \"1\":\n",
    "       if b == \"1\":\n",
    "           print(\"User=\", d.get(a), \", Computer=\", d.get(b), \"비겼습니다.\")\n",
    "       if b == \"2\":\n",
    "           print(\"User=\", d.get(a), \", Computer=\", d.get(b), \"졌습니다.\")\n",
    "       if b == \"3\":\n",
    "           print(\"User=\", d.get(a), \", Computer=\", d.get(b), \"이겼습니다.\")\n",
    "   elif a == \"2\":\n",
    "       if b == \"1\":\n",
    "           print(\"User=\", d.get(a), \", Computer=\", d.get(b), \"이겼습니다.\")\n",
    "       if b == \"2\":\n",
    "           print(\"User=\", d.get(a), \", Computer=\", d.get(b), \"비겼습니다..\")\n",
    "       if b == \"3\":\n",
    "           print(\"User=\", d.get(a), \", Computer=\", d.get(b), \"졌습니다.\")\n",
    "   elif a == \"3\":\n",
    "       if b == \"1\":\n",
    "           print(\"User=\", d.get(a), \", Computer=\", d.get(b), \"졌습니다..\")\n",
    "       if b == \"2\":\n",
    "           print(\"User=\", d.get(a), \", Computer=\", d.get(b), \"이겼습니다.\")\n",
    "          \n",
    "       if b == \"3\":\n",
    "           print(\"User=\", d.get(a), \", Computer=\", d.get(b), \"비습니다.\")\n",
    "   else :\n",
    "       print(\"오류입니다.\")\n",
    "    break"
   ]
  },
  {
   "cell_type": "code",
   "execution_count": 20,
   "metadata": {},
   "outputs": [
    {
     "name": "stdout",
     "output_type": "stream",
     "text": [
      "6\n",
      "6\n",
      "6\n",
      "6\n",
      "6\n",
      "31\n"
     ]
    }
   ],
   "source": [
    "a = [4, 5,31,9 ,10,20 ]\n",
    "maxA = a[0]\n",
    "for i in range(1,len(a)):\n",
    "    print (len(a))\n",
    "    if maxA < a[i]:\n",
    "        maxA = a[i]\n",
    "    \n",
    "print(maxA)"
   ]
  },
  {
   "cell_type": "code",
   "execution_count": 16,
   "metadata": {},
   "outputs": [
    {
     "ename": "NameError",
     "evalue": "name 'random' is not defined",
     "output_type": "error",
     "traceback": [
      "\u001b[1;31m---------------------------------------------------------------------------\u001b[0m",
      "\u001b[1;31mNameError\u001b[0m                                 Traceback (most recent call last)",
      "\u001b[1;32m<ipython-input-16-b80da52682e8>\u001b[0m in \u001b[0;36m<module>\u001b[1;34m\u001b[0m\n\u001b[0;32m      3\u001b[0m \u001b[0ml\u001b[0m \u001b[1;33m=\u001b[0m \u001b[1;33m[\u001b[0m\u001b[1;33m]\u001b[0m\u001b[1;33m\u001b[0m\u001b[1;33m\u001b[0m\u001b[0m\n\u001b[0;32m      4\u001b[0m \u001b[1;32mfor\u001b[0m \u001b[0mi\u001b[0m \u001b[1;32min\u001b[0m \u001b[0mrange\u001b[0m\u001b[1;33m(\u001b[0m\u001b[1;36m100\u001b[0m\u001b[1;33m)\u001b[0m\u001b[1;33m:\u001b[0m\u001b[1;33m\u001b[0m\u001b[1;33m\u001b[0m\u001b[0m\n\u001b[1;32m----> 5\u001b[1;33m    \u001b[0ma\u001b[0m \u001b[1;33m=\u001b[0m \u001b[0mrandom\u001b[0m\u001b[1;33m.\u001b[0m\u001b[0mrandrange\u001b[0m\u001b[1;33m(\u001b[0m\u001b[1;36m1\u001b[0m\u001b[1;33m,\u001b[0m\u001b[1;36m100\u001b[0m\u001b[1;33m)\u001b[0m\u001b[1;33m\u001b[0m\u001b[1;33m\u001b[0m\u001b[0m\n\u001b[0m\u001b[0;32m      6\u001b[0m    \u001b[0ml\u001b[0m\u001b[1;33m.\u001b[0m\u001b[0mappend\u001b[0m\u001b[1;33m(\u001b[0m\u001b[0ma\u001b[0m\u001b[1;33m)\u001b[0m\u001b[1;33m\u001b[0m\u001b[1;33m\u001b[0m\u001b[0m\n\u001b[0;32m      7\u001b[0m    \u001b[1;32mif\u001b[0m \u001b[0mmax\u001b[0m \u001b[1;33m<\u001b[0m \u001b[0ma\u001b[0m \u001b[1;33m:\u001b[0m\u001b[1;33m\u001b[0m\u001b[1;33m\u001b[0m\u001b[0m\n",
      "\u001b[1;31mNameError\u001b[0m: name 'random' is not defined"
     ]
    }
   ],
   "source": [
    "max = 0\n",
    "l = []\n",
    "for i in range(100):\n",
    "   a = random.randrange(1,100)\n",
    "   l.append(a)\n",
    "   if max < a :\n",
    "       max = a\n",
    "print(l,\"\\n 위 숫자 중 제일 큰  수는 :\", max, \"입니다\")"
   ]
  },
  {
   "cell_type": "code",
   "execution_count": 29,
   "metadata": {},
   "outputs": [
    {
     "name": "stdout",
     "output_type": "stream",
     "text": [
      "[56, 93, 65, 39, 73, 81, 3, 26, 74, 71]\n",
      "93\n"
     ]
    }
   ],
   "source": [
    "import random\n",
    "a=[random.randint(1,100) for r in range(10)]\n",
    "print(a)\n",
    "maxA = a[0]\n",
    "for i in range(1,len(a)):\n",
    "    if maxA < a[i]:\n",
    "        maxA = a[i]\n",
    "\n",
    "print(maxA)"
   ]
  },
  {
   "cell_type": "code",
   "execution_count": 39,
   "metadata": {},
   "outputs": [
    {
     "ename": "SyntaxError",
     "evalue": "invalid character in identifier (<ipython-input-39-50468a024ee2>, line 2)",
     "output_type": "error",
     "traceback": [
      "\u001b[1;36m  File \u001b[1;32m\"<ipython-input-39-50468a024ee2>\"\u001b[1;36m, line \u001b[1;32m2\u001b[0m\n\u001b[1;33m    print(“함수입니다.”)\u001b[0m\n\u001b[1;37m               ^\u001b[0m\n\u001b[1;31mSyntaxError\u001b[0m\u001b[1;31m:\u001b[0m invalid character in identifier\n"
     ]
    }
   ],
   "source": [
    "def func(a, b):\n",
    "    print(“함수입니다.”)\n",
    "    return a + b\n",
    "\n",
    "func_test = func(1, 2)\n",
    "print(func_test)\n",
    "\n"
   ]
  },
  {
   "cell_type": "code",
   "execution_count": 55,
   "metadata": {},
   "outputs": [],
   "source": [
    "a=1\n",
    "b=2\n",
    "c=5\n",
    "\n",
    "def func1():\n",
    "    a=3\n",
    "    b=4\n",
    "    print(a,b,c)\n",
    "    return\n",
    "\n",
    "\n"
   ]
  },
  {
   "cell_type": "code",
   "execution_count": 72,
   "metadata": {},
   "outputs": [
    {
     "ename": "IndentationError",
     "evalue": "expected an indented block (<ipython-input-72-139d17beb942>, line 6)",
     "output_type": "error",
     "traceback": [
      "\u001b[1;36m  File \u001b[1;32m\"<ipython-input-72-139d17beb942>\"\u001b[1;36m, line \u001b[1;32m6\u001b[0m\n\u001b[1;33m    print(“숫자를 0으로 나눌수 없음”, e)\u001b[0m\n\u001b[1;37m        ^\u001b[0m\n\u001b[1;31mIndentationError\u001b[0m\u001b[1;31m:\u001b[0m expected an indented block\n"
     ]
    }
   ],
   "source": [
    "x = [1, 2, 3]\n",
    "try:\n",
    "     print(10 / 0)\n",
    "     x = [5]\n",
    "except ZeroDivisionError as e:\n",
    "print(“숫자를 0으로 나눌수 없음”, e)\n",
    "except IndexError as e:\n",
    "print(“잘못된 인덱스”, e)"
   ]
  },
  {
   "cell_type": "code",
   "execution_count": null,
   "metadata": {},
   "outputs": [],
   "source": []
  },
  {
   "cell_type": "code",
   "execution_count": null,
   "metadata": {},
   "outputs": [],
   "source": []
  },
  {
   "cell_type": "code",
   "execution_count": null,
   "metadata": {},
   "outputs": [],
   "source": []
  },
  {
   "cell_type": "code",
   "execution_count": null,
   "metadata": {},
   "outputs": [],
   "source": []
  }
 ],
 "metadata": {
  "kernelspec": {
   "display_name": "Python 3",
   "language": "python",
   "name": "python3"
  }
 },
 "nbformat": 4,
 "nbformat_minor": 2
}
